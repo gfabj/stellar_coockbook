{
 "cells": [
  {
   "cell_type": "code",
   "execution_count": 20,
   "metadata": {
    "collapsed": true
   },
   "outputs": [],
   "source": [
    "import numpy as np\n",
    "import matplotlib.pylab as plt\n",
    "%matplotlib inline\n",
    "from numpy import array, pi"
   ]
  },
  {
   "cell_type": "markdown",
   "metadata": {},
   "source": [
    "# Polytropes"
   ]
  },
  {
   "cell_type": "markdown",
   "metadata": {},
   "source": [
    "In the lecture, you considered polytropic stars where the pressure in the stellar interior is only a function of density,\n",
    "\\begin{align}\n",
    "P = K \\rho^\\gamma = K \\rho^{1+\\frac{1}{n}},\n",
    "\\label{eq:polytrope}\n",
    "\\end{align} \n",
    "where $n$ is the polytropic index. Writing the density as $\\rho(r) = \\rho_\\mathrm{c} \\theta^n(r)$ such that $P(r) = K \\rho_\\mathrm{c}^{1+\\frac{1}{n}} \\theta^{1+n}(r) = P_\\mathrm{c} \\theta^{1+n}(r)$ for $0\\leq\\theta\\leq1$, and the radius as $r=r_n\\xi$ with $r_n^2 = \\frac{(n+1)K}{4\\pi G\\rho_\\mathrm{c}^{(n-1)/n}} = \\frac{(n+1)P_\\mathrm{c}}{4\\pi G\\rho_\\mathrm{c}^2}$, led to the Lane-Emden equation,\n",
    "\\begin{align}\n",
    "\\frac{1}{\\xi^2}\\frac{\\mathrm{d}}{\\mathrm{d}\\xi}\\left(\\xi^2\\frac{\\mathrm{d}\\theta}{\\mathrm{d}\\xi}\\right) = -\\theta^n,\n",
    "\\label{eq:lane-emden}\n",
    "\\end{align}\n",
    "of a polytropic star that is in hydrostatic equilibrium. \n",
    "\n",
    "In the core ($r=0$, i.e. $\\xi=0$), we have $\\theta=1$ such that $\\rho_\\mathrm{c}$ is indeed the central density and $\\mathrm{d}\\theta/\\mathrm{d}\\xi=0$ because $\\mathrm{d}P/\\mathrm{d}r=0$ for $r=0$ (cf. hydrostatic equilibrium).\n",
    "\n",
    "At the surface ($r=R$), we require $\\rho=P=0$, i.e. $\\theta=0$. In fact, the general solution of $\\theta$ may cross zero several times (it may oscillate around zero) and we denote the surface as that point $\\xi_1$ where $\\theta$ has its first zero point to avoid zero densities inside the star. The radius of such a star is then $R=r_n \\xi_1$."
   ]
  },
  {
   "cell_type": "markdown",
   "metadata": {},
   "source": [
    "#### Problem 1:\n",
    "For an ideal gas, $P=\\frac{k_\\mathrm{B}}{\\mu m_\\mathrm{u}}\\rho T$, what physical quantity does $\\theta$ describe? *Hint:* From the above definitions, you can easily see that $\\theta^n$ is directly proportional to the density $\\rho$ and $\\theta^{1+n}$ is proportional to pressure $P$..."
   ]
  },
  {
   "cell_type": "markdown",
   "metadata": {},
   "source": [
    "# Your solutions here\n",
    "$\\theta$ describes the temperature of the star"
   ]
  },
  {
   "cell_type": "markdown",
   "metadata": {},
   "source": [
    "We now solve the Lane-Emden equation to obtain, e.g., the interior structure of a simple (polytropic) star. In the lecture, we introduced $x=\\xi$, $y=\\theta$ and $z=\\frac{\\mathrm{d}\\theta}{\\mathrm{d}\\xi}$ to rewrite the second-order Lane-Emden differential equation into a set of two first-order differential equations,\n",
    "\\begin{align}\n",
    "\\frac{\\mathrm{d}y}{\\mathrm{d}x} &= z, \\\\\n",
    "\\frac{\\mathrm{d}z}{\\mathrm{d}x} &= -\\frac{2}{x}z - y^n.\n",
    "\\end{align}\n",
    "We will solve these equations via a simple shooting method that numerically integrates the equations from the centre to the surface. To this end, we discretise $x$, i.e. the radius, in small steps of length $h$. We start at some $x_0$ at which we also need $y_0$ and $z_0$ (see Problem 2). For a simple Euler step of stepsize $h$, simple integration of the two differential equations yields\n",
    "\\begin{align}\n",
    "x_1 &\\rightarrow x_0 + h, \\\\\n",
    "y_1 &\\rightarrow y_0 + z_0 h, \\\\\n",
    "z_1 &\\rightarrow z_0 + \\left(-\\frac{2}{x_0}z_0-y_0^n\\right)h. \\\\\n",
    "\\end{align}\n",
    "We then continue to obtain $x_2$, $y_2$ and $z_2$ from $x_1$, $y_1$ and $z_1$, and so on until we reach the surface of the star. Such a Euler method is only accurate to first order, but we could simply use higher-order, i.e. more accurate, integrators such as the Runge-Kutta method. In our case, the simple Euler method will suffice for small enough stepsizes $h$."
   ]
  },
  {
   "cell_type": "markdown",
   "metadata": {},
   "source": [
    "#### Problem 2:\n",
    "(a) What are the conditions $x_0$, $y_0$ and $z_0$ in the core of the star, and what is the stopping condition at the surface? \n",
    "\n",
    "(b) The core of the star is at $x=0$, but the second differential equation has a singularity at $x=0$. How can we avoid this singularity in the numerical integration? *Hint:* The proper solution would be to make a Taylor expansion of the equations about the origin but a much simpler albeit less accurate trick will do here... "
   ]
  },
  {
   "cell_type": "markdown",
   "metadata": {},
   "source": [
    "# Your answer here\n",
    "(a) $x_0$=0,$y_0$ =1, $z_0=0$ \n",
    "\n",
    "\n",
    "(b) we want to stop at y=1 \n",
    "\n",
    "\n",
    "(c) The stopping condition for x should be 1e-7 , while y>0\n",
    "\n"
   ]
  },
  {
   "cell_type": "markdown",
   "metadata": {},
   "source": [
    "#### Problem 3:\n",
    "(a) Now, write a function that integrates the Lane-Emden equation for a polytrope of index $n$ out to a maximum $x$ of $x_\\mathrm{max}=20$ with stepsize $h=10^{-3}$. The function should accept the polytropic index $n$, the stepsize $h$ and the maximum $x_\\mathrm{max}$ as arguments and return lists of $x$, $y$ and $z$.\n",
    "\n",
    "(b) Extend your function by a linear interpolation to also return the surface values of $x$, $y$ and $z$. "
   ]
  },
  {
   "cell_type": "code",
   "execution_count": 2,
   "metadata": {
    "collapsed": true
   },
   "outputs": [],
   "source": [
    "def polytrope(n, h=1e-3, x_max=20.0):\n",
    "    xi = 1e-7\n",
    "    yi = 1\n",
    "    zi = 0\n",
    "    \n",
    "    x = []\n",
    "    y = []\n",
    "    z = []\n",
    "    \n",
    "    while yi>=0 and xi<=x_max:\n",
    "        # compute Euler step for next point\n",
    "        #\n",
    "        # Your integration goes here!\n",
    "        #\n",
    "        xj = xi+h\n",
    "        yj = yi+(zi*h)\n",
    "        zj = zi+((-2*zi/xi)-yi**n)*h\n",
    "        \n",
    "        # add point to output array\n",
    "        x.append(xj)\n",
    "        y.append(yj)\n",
    "        z.append(zj)\n",
    "        \n",
    "        # set new points to old points for next step\n",
    "        xi = xj\n",
    "        yi = yj\n",
    "        zi = zj\n",
    "        \n",
    "        # get surface properties(linear interpolation)\n",
    "        ysurf = 0.0\n",
    "        xsurf = x[-1]\n",
    "        zsurf = z[-1]\n",
    "        \n",
    "    return (np.array(x), np.array(y), np.array(z),xsurf,ysurf,zsurf)"
   ]
  },
  {
   "cell_type": "code",
   "execution_count": 3,
   "metadata": {
    "collapsed": true
   },
   "outputs": [],
   "source": [
    "#polytrope(3, h=1e-3, x_max=20.0)"
   ]
  },
  {
   "cell_type": "markdown",
   "metadata": {},
   "source": [
    "## Density profile of polytropes"
   ]
  },
  {
   "cell_type": "markdown",
   "metadata": {},
   "source": [
    "#### Problem 4:\n",
    "Solve the Lane-Emden equation for polytropic indices of $n=1.5$ and $n=3.0$ using your function from above and plot the relative density $\\rho/\\rho_\\mathrm{c}=\\theta^n$ against the relative radius $r/R=\\xi/\\xi_1$. Which polytrope is centrally more condensed? Do not forget to add labels to your axes."
   ]
  },
  {
   "cell_type": "code",
   "execution_count": 4,
   "metadata": {},
   "outputs": [
    {
     "name": "stderr",
     "output_type": "stream",
     "text": [
      "/Library/Frameworks/Python.framework/Versions/3.6/lib/python3.6/site-packages/ipykernel_launcher.py:9: RuntimeWarning: invalid value encountered in power\n",
      "  if __name__ == '__main__':\n"
     ]
    },
    {
     "data": {
      "image/png": "[encoded data removed]",
      "text/plain": [
       "<Figure size 720x360 with 1 Axes>"
      ]
     },
     "metadata": {},
     "output_type": "display_data"
    }
   ],
   "source": [
    "# Your solution here\n",
    "#theta^n on y and x on x\n",
    "x_15,y_15,z_15,xs_15,ys_15,zs_15 = polytrope(1.5)\n",
    "x_30,y_30,z_30,xs_30,ys_30,zs_30 = polytrope(3.0)\n",
    "\n",
    "\n",
    "\n",
    "plt.figure(figsize=(10,5))\n",
    "plt.plot(x_15/xs_15, np.power(y_15,1.5),label=1.5,c='blue')\n",
    "plt.plot(x_30/xs_30, np.power(y_30,3.0),label=3.0,c='red')\n",
    "plt.title('Lane-Emden equation',fontsize=20)\n",
    "plt.ylabel(r'$\\rho/\\rho_c$',fontsize=18)\n",
    "plt.xlabel('$r/R$',fontsize=18)\n",
    "plt.legend()\n",
    "plt.savefig('plot1.pdf')\n",
    "plt.show()"
   ]
  },
  {
   "cell_type": "markdown",
   "metadata": {},
   "source": [
    "## Tabulated polytropic constants"
   ]
  },
  {
   "cell_type": "markdown",
   "metadata": {},
   "source": [
    "In the lecture, we derived further useful quantities that we briefly summarise here for your convenience. For example, the total mass of a polytropic star is\n",
    "\\begin{align}\n",
    "M = 4\\pi r_n^3 \\rho_\\mathrm{c} M_n\n",
    "\\end{align}\n",
    "with\n",
    "\\begin{align}\n",
    "M_n = -\\xi_1^2 \\left. \\frac{\\mathrm{d}\\theta}{\\mathrm{d}\\xi}\\right\\vert_{\\xi=\\xi_1}.\n",
    "\\end{align}\n",
    "The central density is then related to the mean density,\n",
    "\\begin{align}\n",
    "\\rho_\\mathrm{c} = D_n \\frac{M}{4\\pi/3R^3} = D_n \\bar{\\rho}\n",
    "\\end{align}\n",
    "with\n",
    "\\begin{align}\n",
    "D_n = -\\left[\\frac{3}{\\xi_1} \\left. \\frac{\\mathrm{d}\\theta}{\\mathrm{d}\\xi}\\right\\vert_{\\xi=\\xi_1} \\right]^{-1}.\n",
    "\\end{align}\n",
    "The radius is $R=r_n \\xi_1=r_n R_n$, i.e.\n",
    "\\begin{align}\n",
    "R_n = \\xi_1.\n",
    "\\end{align}\n",
    "We also arrived at a mass-radius relation,\n",
    "\\begin{align}\n",
    "\\frac{R}{R_\\mathrm{n}} = \\left(\\frac{1}{4\\pi}\\right)^{\\frac{1}{3-n}} \\left(\\frac{(n+1)K}{G}\\right)^{\\frac{n}{3-n}} \\left(\\frac{M_\\mathrm{n}}{M}\\right)^{\\frac{n-1}{3-n}},\n",
    "\\end{align}\n",
    "which we used to show that the central pressure of a star can be written as\n",
    "\\begin{align}\n",
    "P_\\mathrm{c} = B_n \\left(\\frac{4\\pi}{3}\\right)^{1/3} G M^{2/3} \\rho_\\mathrm{c}^{4/3},\n",
    "\\end{align}\n",
    "where\n",
    "\\begin{align}\n",
    "B_n = \\frac{3^{1/n}}{n+1} M_n^{\\frac{1-n}{n}} R_n^{\\frac{n-3}{n}} D_n^{\\frac{3-n}{3n}}.\n",
    "\\end{align}\n",
    "The equation that relates the central pressure and the density of stars of different mass is particularly remarkable, because one can understand almost all of stellar evolution from this equation alone. In fact, you can derive this equation more easily from homology or the equation of hydrostatic equilibrium. Later in the course, you will understand better why this equation is so important for our understanding of stellar evolution."
   ]
  },
  {
   "cell_type": "markdown",
   "metadata": {},
   "source": [
    "#### Student-report part 1:\n",
    "Solve the Lane-Emden equation for $n=1.0$, $1.5$, $2.0$, $2.5$, $3.0$ and $3.5$, compute the dimensionless parameters $D_n$, $M_n$, $R_n$ and $B_n$ (see summary above) and put them in a table in your report. What is the value of $M_3$?"
   ]
  },
  {
   "cell_type": "code",
   "execution_count": 4,
   "metadata": {
    "collapsed": true
   },
   "outputs": [],
   "source": [
    "# polytopic indices\n",
    "ns=np.arange(1.0, 4.0, 0.5)\n",
    "ns.any()\n",
    "nt = np.array([1.0,1.5,2.0,2.5,3.0,3.5])\n",
    "# Your solution here\n",
    "\n",
    "def polx(n, h=1e-3, x_max=20.0):\n",
    "    xi = 1e-7\n",
    "    yi = 1\n",
    "    zi = 0\n",
    "    \n",
    "    x = []\n",
    "    y = []\n",
    "    z = []\n",
    "    \n",
    "    while yi>=0 and xi<=x_max:\n",
    "        # compute Euler step for next point\n",
    "        #np.logical_and(x > -2, x < 2)\n",
    "        # Your integration goes here!\n",
    "        #\n",
    "        xj = xi+h\n",
    "        yj = yi+(zi*h)\n",
    "        zj = zi+((-2*zi/xi)-yi**n)*h\n",
    "        \n",
    "        # add point to output array\n",
    "        x.append(xj)\n",
    "        y.append(yj)\n",
    "        z.append(zj)\n",
    "        \n",
    "        # set new points to old points for next step\n",
    "        xi = xj\n",
    "        yi = yj\n",
    "        zi = zj\n",
    "        \n",
    "        # get surface properties(linear interpolation)\n",
    "        ysurf = 0.0\n",
    "        xsurf = x[-1]\n",
    "        zsurf = z[-1]\n",
    "        \n",
    "    return (xsurf)\n",
    "    \n",
    "    \n",
    "    \n",
    "\n",
    "def polz(n, h=1e-3, x_max=20.0):\n",
    "    xi = 1e-7\n",
    "    yi = 1\n",
    "    zi = 0\n",
    "    \n",
    "    x = []\n",
    "    y = []\n",
    "    z = []\n",
    "    while yi>=0 and xi<=x_max:\n",
    "        # compute Euler step for next point\n",
    "        #\n",
    "        # Your integration goes here!\n",
    "        #\n",
    "        xj = xi+h\n",
    "        yj = yi+(zi*h)\n",
    "        zj = zi+((-2*zi/xi)-yi**n)*h\n",
    "        \n",
    "        # add point to output array\n",
    "        x.append(xj)\n",
    "        y.append(yj)\n",
    "        z.append(zj)\n",
    "        \n",
    "        # set new points to old points for next step\n",
    "        xi = xj\n",
    "        yi = yj\n",
    "        zi = zj\n",
    "        \n",
    "        # get surface properties(linear interpolation)\n",
    "        ysurf = 0.0\n",
    "        xsurf = x[-1]\n",
    "        zsurf = z[-1]\n",
    "        \n",
    "    return (zsurf)\n"
   ]
  },
  {
   "cell_type": "code",
   "execution_count": 19,
   "metadata": {},
   "outputs": [
    {
     "name": "stdout",
     "output_type": "stream",
     "text": [
      "n= [1.  1.5 2.  2.5 3.  3.5]\n",
      "Dn= [  3.29005676   5.98674574  11.39802542  23.39966913  54.1722198\n",
      " 152.96382204]\n",
      "Mn= [3.14263496 2.71416961 2.41054817 2.1862718  2.01699557 1.88908772]\n",
      "Rn= [3.1420001 3.6530001 4.3520001 5.3540001 6.8950001 9.5350001]\n",
      "Bn= [1.92707766e+02 7.67103530e+04 2.64095833e+06 5.35301896e+05\n",
      " 1.71415062e+01 4.00149006e-10]\n"
     ]
    }
   ],
   "source": [
    "### Define polytropic quantities Dn, Mn, \n",
    "\n",
    "def Dn(n,polx,polz):\n",
    "    dn= -((3/polx(n))*polz(n))**(-1)\n",
    "    return dn\n",
    "D1,D15,D2,D25,D3,D35= Dn(1.0,polx,polz),Dn(1.5,polx,polz),Dn(2,polx,polz),Dn(2.5,polx,polz),Dn(3,polx,polz),Dn(3.5,polx,polz)\n",
    "D=array([D1,D15,D2,D25,D3,D35])\n",
    "\n",
    "#########\n",
    "\n",
    "def Mn(n,polx,polz):\n",
    "    mn= -(polx(n)**2)*polz(n)\n",
    "    return mn\n",
    "\n",
    "M1,M15,M2,M25,M3,M35= Mn(1.0,polx,polz),Mn(1.5,polx,polz),Mn(2,polx,polz),Mn(2.5,polx,polz),Mn(3,polx,polz),Mn(3.5,polx,polz)\n",
    "M=array([M1,M15,M2,M25,M3,M35])\n",
    "\n",
    "##########\n",
    "\n",
    "R1,R15,R2,R25,R3,R35 = polx(1.0),polx(1.5),polx(2.0),polx(2.5),polx(3.0),polx(3.5)\n",
    "R = array([R1,R15,R2,R25,R3,R35])\n",
    "\n",
    "#########\n",
    "\n",
    "def Bn(n,mn,rn,dn):\n",
    "    bn = 3**(1/n)/(n+1)*mn**(1-n/n)*rn**(n-3/n)*dn**((3-n)*3*n)\n",
    "    return bn\n",
    "N = array([1.0,1.5,2.0,2.5,3.0,3.5])\n",
    "B = Bn(N,M,R,D)\n",
    "print('n=', N)\n",
    "print('Dn=', D)\n",
    "print('Mn=', M)\n",
    "print('Rn=', R)\n",
    "print('Bn=', B)\n"
   ]
  },
  {
   "cell_type": "markdown",
   "metadata": {},
   "source": [
    "White dwarfs are a special type of stars in which gravity is balanced by the quantum-mechanical degeneracy pressure of electrons (Pauli principle). Such objects are the end products of some stars including our Sun.\n",
    "\n",
    "Later in the lecture, we will show that a fully degenerate electron gas produces a pressure \n",
    "\\begin{align}\n",
    "P_\\mathrm{e} = \\frac{h^2}{20 m_\\mathrm{e}} \\left(\\frac{3}{\\pi}\\right)^{2/3} \\frac{1}{m_\\mathrm{H}^{5/3}} \\left(\\frac{\\rho}{\\mu_\\mathrm{e}}\\right)^{5/3},\n",
    "\\end{align}\n",
    "where $\\mu_\\mathrm{e}$ is the mean molecular weight per free electron, which is $\\mu_\\mathrm{e}=2.0$ for a star made of only helium, carbon, oxygen etc. and is $\\mu_\\mathrm{e}=2.15$ for a pure iron gas. In terms of the atomic mass unit $m_\\mathrm{u}$, the hydrogen atom has a mass of $m_\\mathrm{H}\\approx 1.00784 m_\\mathrm{u}$.\n",
    "\n",
    "If the electrons are fully relativistic, the degeneracy pressure takes the form\n",
    "\\begin{align}\n",
    "P_\\mathrm{e,r} = \\frac{h c}{8} \\left(\\frac{3}{\\pi}\\right)^{1/3} \\frac{1}{m_\\mathrm{H}^{4/3}} \\left(\\frac{\\rho}{\\mu_\\mathrm{e}}\\right)^{4/3}.\n",
    "\\end{align}\n",
    "This implies that white dwarfs are well described by a polytrope of index $n=1.5$ ($\\gamma=1+\\frac{1}{n}=5/3$) and, if the electrons are fully relativistic, by a polytrope of index $n=3.0$ ($\\gamma=4/3$)."
   ]
  },
  {
   "cell_type": "markdown",
   "metadata": {},
   "source": [
    "# Mass-radius relation of white dwarfs"
   ]
  },
  {
   "cell_type": "markdown",
   "metadata": {},
   "source": [
    "#### Student-report part 2:\n",
    "Use the tabulated values of $R_n$ and $M_n$ of a $n=1.5$ polytrope and the constant $K$ from electron degeneracy pressure to plot the mass-radius relation of white dwarfs for masses $0.01\\text{--}2.0\\,\\mathrm{M}_\\odot$. Has a more massive white dwarf a smaller or a larger radius than a less massive white dwarf? \n",
    "\n",
    "*Hint:* The Python package `scipy.constants` has many natural [constants](https://docs.scipy.org/doc/scipy/reference/constants.html) in SI units. However, it does not provide commonly-used astronomical constants. For example, loading the module via `import scipy.constants as const`, you can access Planck's constant via `const.h`."
   ]
  },
  {
   "cell_type": "code",
   "execution_count": 75,
   "metadata": {},
   "outputs": [
    {
     "data": {
      "image/png": "[encoded data removed]",
      "text/plain": [
       "<Figure size 720x504 with 1 Axes>"
      ]
     },
     "metadata": {},
     "output_type": "display_data"
    }
   ],
   "source": [
    "import scipy.constants as const\n",
    "\n",
    "M_sun = 1.98847542e30 # in kg\n",
    "R_sun = 695700000.0 # in m\n",
    "\n",
    "Mwd = np.linspace(0.01, 2.0, 1000) # a useful range of WD masses\n",
    "\n",
    "mu = 1.6605390666e-27 #in kg\n",
    "Rwd = R15*((1/(4*pi))**(1/(1.5)))*(2.5/const.G)*(M15/(Mwd*M_sun))**(0.5/1.5)/R_sun\n",
    "\n",
    "# Your solution here\n",
    "bsfont = {'fontname':'Cambria Math'}\n",
    "plt.figure(figsize=(10,7))\n",
    "plt.plot(Mwd,Rwd,c='blue')\n",
    "plt.xlabel(r'$M/M_{\\odot}$',fontsize=18,**bsfont)\n",
    "plt.ylabel(r'$R/R_{\\odot}$',fontsize=18,**bsfont)\n",
    "plt.title('White Dwarf Mass-Radius relation',fontsize=20,**bsfont)\n",
    "plt.grid()"
   ]
  },
  {
   "cell_type": "markdown",
   "metadata": {},
   "source": [
    "Question: More massive white dwarf has smaller radius "
   ]
  },
  {
   "cell_type": "markdown",
   "metadata": {},
   "source": [
    "This mass-radius relation is not completely accurate because, for higher masses, there will be some contribution from relativistic degenerate electrons such that the white dwarfs cannot be solely described as a $n=1.5$ polytrope anymore.\n",
    "\n",
    "For example, on [Wikipedia](https://en.wikipedia.org/wiki/White_dwarf) there is a more complete graph:\n",
    "<img src=\"ChandrasekharLimitGraph.svg\" alt=\"WD mass-radius relation\" width=\"500\"/>"
   ]
  },
  {
   "cell_type": "markdown",
   "metadata": {},
   "source": [
    "# Chandrasekhar mass"
   ]
  },
  {
   "cell_type": "markdown",
   "metadata": {},
   "source": [
    "The mean density of white dwarfs described by a $n=1.5$ polytrope increases as $\\bar{\\rho}\\propto M^2$ (why?). For increasing mass $M$, the mean density increases and electrons become relativistic (why?).\n",
    "\n",
    "A fully relativistic, degenerate electron gas is well described by a $n=3.0$ polytrope. As we have seen in the lecture, there is only one mass $M$ for which such a star can be in hydrostatic equilibrium. This mass is called the Chandrasekhar mass. If a white dwarf exceeds this limit, it will collapse and produce a Type Ia supernova. We will hear more about these stars later in the lecture."
   ]
  },
  {
   "cell_type": "markdown",
   "metadata": {},
   "source": [
    "#### Student-report part 3:\n",
    "Use the tabulated value $M_3$ and the polytropic constant $K$ from above to show that the Chandrasekhar mass is $M_\\mathrm{Ch}\\approx5.83\\,\\mu_\\mathrm{e}^{-2}\\,\\mathrm{M}_\\odot$. Compute the Chandrasekhar mass for a white dwarf made of carbon and oxygen, and of a white dwarf made of iron. The latter mass limit is relevant for core-collapse supernovae as we will see later in this course. For which composition do we have $\\mu_\\mathrm{e}=1.0$ and hence a Chandrasekhar mass of $5.83\\,\\mathrm{M}_\\odot$?"
   ]
  },
  {
   "cell_type": "markdown",
   "metadata": {
    "collapsed": true
   },
   "source": [
    "Solution: \n",
    "\n",
    "(a) for a degenerate non-relativistic electron gas, $R \\propto M^{-1/3}$. Combining it with $\\rho \\propto MR^{-3}$ we obtain $\\bar \\rho \\propto M^2$\n",
    "\n",
    "(b) The mean density increases and electrons become relativistic due to Pauli exclusion principle (electrons are pushed to higher momenta)\n",
    "\n",
    "(c) For n=3, the mass-radius relation becomes:\n",
    "\n",
    " $M = 4\\pi M_{3}\\left(\\frac{K}{\\pi G}\\right)^{3/2}$\n",
    " \n",
    " plugging in $M_{3}=2.0170$ \n",
    " \n",
    "(d) the general equation for $\\mu_e$ is:\n",
    "\n",
    "\\begin{equation}\n",
    "    \\mu_e = \\left(\\sum_{i}\\frac{X_i Z_i}{A_i}\\right)^{-1}\n",
    "\\end{equation}\n",
    "\n",
    "where A is the molecular weight and Z is the charge. For Hydrogen, $\\mu_e = 1$, for Oxygen, Helium, and Carbon $\\mu_e = 2$, and for iron $\\mu_e = 56/26$\n",
    "\n",
    "The resulting Chandrasekhar masses $M_\\mathrm{Ch}$ are:\n",
    "\n",
    "(e) $\\mu_e = 1$ is valid for Hydrogen composition since $A/Z=1$"
   ]
  },
  {
   "cell_type": "markdown",
   "metadata": {},
   "source": [
    "For this and other seminal contributions to the theory of stars, Subrahmanyan Chandrasekhar received a Nobel Prize in Physics in 1983. By the way: he did much of this work on a boat trip from India to the UK. "
   ]
  },
  {
   "cell_type": "code",
   "execution_count": 78,
   "metadata": {},
   "outputs": [
    {
     "name": "stdout",
     "output_type": "stream",
     "text": [
      "chandra O 1.4575\n",
      "chandra F 1.2567219387755104\n"
     ]
    }
   ],
   "source": [
    "def Chandra(me):\n",
    "    m = 5.83*me**(-2)\n",
    "    return m\n",
    "print ('chandra O', Mch(2))\n",
    "print ('chandra F', Mch(56/26))"
   ]
  },
  {
   "cell_type": "code",
   "execution_count": null,
   "metadata": {
    "collapsed": true
   },
   "outputs": [],
   "source": []
  }
 ],
 "metadata": {
  "kernelspec": {
   "display_name": "Python 3",
   "language": "python",
   "name": "python3"
  },
  "language_info": {
   "codemirror_mode": {
    "name": "ipython",
    "version": 3
   },
   "file_extension": ".py",
   "mimetype": "text/x-python",
   "name": "python",
   "nbconvert_exporter": "python",
   "pygments_lexer": "ipython3",
   "version": "3.6.5"
  }
 },
 "nbformat": 4,
 "nbformat_minor": 2
}
