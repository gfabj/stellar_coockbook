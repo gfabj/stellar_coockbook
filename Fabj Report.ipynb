{
 "cells": [
  {
   "cell_type": "markdown",
   "metadata": {},
   "source": [
    "# 01.Polytropes"
   ]
  },
  {
   "cell_type": "code",
   "execution_count": 2,
   "metadata": {
    "collapsed": true
   },
   "outputs": [],
   "source": [
    "import numpy as np\n",
    "import matplotlib.pylab as plt\n",
    "%matplotlib inline\n",
    "from numpy import array, pi"
   ]
  },
  {
   "cell_type": "markdown",
   "metadata": {},
   "source": [
    "#### Student-report part 1:\n",
    "Solve the Lane-Emden equation for $n=1.0$, $1.5$, $2.0$, $2.5$, $3.0$ and $3.5$, compute the dimensionless parameters $D_n$, $M_n$, $R_n$ and $B_n$ (see summary above) and put them in a table in your report. What is the value of $M_3$?"
   ]
  },
  {
   "cell_type": "markdown",
   "metadata": {},
   "source": [
    "| n | D | M | R | B |\n",
    "| ---: | :---: | :---: | :--- | :---  |\n",
    "| $1.0$ | $3.29$ | $3.14$ | $3.14$ | $1.93e+02$ | \n",
    "| $1.5$ | $5.99$ | $2.71$ | $3.65$ | $7.67e+04$ | \n",
    "| $2.0$ | $11.4$ | $2.41$ | $4.35$ | $2.64e+06$ |\n",
    "| $2.5$ | $23.4$ | $2.19$ | $5.35$ | $5.35e+05$ | \n",
    "| $3.0$ | $54.2$ | $2.02$ | $6.90$ | $1.71e+01$ | \n",
    "| $3.5$ | $153.0$ | $1.89$ | $9.54$ | $4.00e-10$ |"
   ]
  },
  {
   "cell_type": "markdown",
   "metadata": {},
   "source": [
    "- $M_3$ is 2.02"
   ]
  },
  {
   "cell_type": "code",
   "execution_count": 4,
   "metadata": {
    "collapsed": true
   },
   "outputs": [],
   "source": [
    "# polytopic indices\n",
    "ns=np.arange(1.0, 4.0, 0.5)\n",
    "ns.any()\n",
    "nt = np.array([1.0,1.5,2.0,2.5,3.0,3.5])\n",
    "# Your solution here\n",
    "\n",
    "def polx(n, h=1e-3, x_max=20.0):\n",
    "    xi = 1e-7\n",
    "    yi = 1\n",
    "    zi = 0\n",
    "    \n",
    "    x = []\n",
    "    y = []\n",
    "    z = []\n",
    "    \n",
    "    while yi>=0 and xi<=x_max:\n",
    "        # compute Euler step for next point\n",
    "        #np.logical_and(x > -2, x < 2)\n",
    "        # Your integration goes here!\n",
    "        #\n",
    "        xj = xi+h\n",
    "        yj = yi+(zi*h)\n",
    "        zj = zi+((-2*zi/xi)-yi**n)*h\n",
    "        \n",
    "        # add point to output array\n",
    "        x.append(xj)\n",
    "        y.append(yj)\n",
    "        z.append(zj)\n",
    "        \n",
    "        # set new points to old points for next step\n",
    "        xi = xj\n",
    "        yi = yj\n",
    "        zi = zj\n",
    "        \n",
    "        # get surface properties(linear interpolation)\n",
    "        ysurf = 0.0\n",
    "        xsurf = x[-1]\n",
    "        zsurf = z[-1]\n",
    "        \n",
    "    return (xsurf)\n",
    "    \n",
    "    \n",
    "    \n",
    "\n",
    "def polz(n, h=1e-3, x_max=20.0):\n",
    "    xi = 1e-7\n",
    "    yi = 1\n",
    "    zi = 0\n",
    "    \n",
    "    x = []\n",
    "    y = []\n",
    "    z = []\n",
    "    while yi>=0 and xi<=x_max:\n",
    "        # compute Euler step for next point\n",
    "        #\n",
    "        # Your integration goes here!\n",
    "        #\n",
    "        xj = xi+h\n",
    "        yj = yi+(zi*h)\n",
    "        zj = zi+((-2*zi/xi)-yi**n)*h\n",
    "        \n",
    "        # add point to output array\n",
    "        x.append(xj)\n",
    "        y.append(yj)\n",
    "        z.append(zj)\n",
    "        \n",
    "        # set new points to old points for next step\n",
    "        xi = xj\n",
    "        yi = yj\n",
    "        zi = zj\n",
    "        \n",
    "        # get surface properties(linear interpolation)\n",
    "        ysurf = 0.0\n",
    "        xsurf = x[-1]\n",
    "        zsurf = z[-1]\n",
    "        \n",
    "    return (zsurf)\n"
   ]
  },
  {
   "cell_type": "code",
   "execution_count": 9,
   "metadata": {},
   "outputs": [],
   "source": [
    "### Define polytropic quantities Dn, Mn, \n",
    "\n",
    "def Dn(n,polx,polz):\n",
    "    dn= -((3/polx(n))*polz(n))**(-1)\n",
    "    return dn\n",
    "D1,D15,D2,D25,D3,D35= Dn(1.0,polx,polz),Dn(1.5,polx,polz),\\\n",
    "Dn(2,polx,polz),Dn(2.5,polx,polz),Dn(3,polx,polz),Dn(3.5,polx,polz)\n",
    "D=array([D1,D15,D2,D25,D3,D35])\n",
    "\n",
    "#########\n",
    "\n",
    "def Mn(n,polx,polz):\n",
    "    mn= -(polx(n)**2)*polz(n)\n",
    "    return mn\n",
    "\n",
    "M1,M15,M2,M25,M3,M35= Mn(1.0,polx,polz),Mn(1.5,polx,polz),Mn(2,polx,polz),\\\n",
    "Mn(2.5,polx,polz),Mn(3,polx,polz),Mn(3.5,polx,polz)\n",
    "M=array([M1,M15,M2,M25,M3,M35])\n",
    "\n",
    "##########\n",
    "\n",
    "R1,R15,R2,R25,R3,R35 = polx(1.0),polx(1.5),polx(2.0),polx(2.5),\\\n",
    "polx(3.0),polx(3.5)\n",
    "R = array([R1,R15,R2,R25,R3,R35])\n",
    "\n",
    "#########\n",
    "\n",
    "def Bn(n,mn,rn,dn):\n",
    "    bn = 3**(1/n)/(n+1)*mn**(1-n/n)*rn**(n-3/n)*dn**((3-n)*3*n)\n",
    "    return bn\n",
    "N = array([1.0,1.5,2.0,2.5,3.0,3.5])\n",
    "B = Bn(N,M,R,D)"
   ]
  },
  {
   "cell_type": "markdown",
   "metadata": {},
   "source": [
    "#### Student-report part 2:\n",
    "Use the tabulated values of $R_n$ and $M_n$ of a $n=1.5$ polytrope and the constant $K$ from electron degeneracy pressure to plot the mass-radius relation of white dwarfs for masses $0.01\\text{--}2.0\\,\\mathrm{M}_\\odot$. Has a more massive white dwarf a smaller or a larger radius than a less massive white dwarf? \n",
    "\n",
    "*Hint:* The Python package `scipy.constants` has many natural [constants](https://docs.scipy.org/doc/scipy/reference/constants.html) in SI units. However, it does not provide commonly-used astronomical constants. For example, loading the module via `import scipy.constants as const`, you can access Planck's constant via `const.h`."
   ]
  },
  {
   "cell_type": "markdown",
   "metadata": {},
   "source": [
    "- More massive white dwarf has smaller radius "
   ]
  },
  {
   "cell_type": "code",
   "execution_count": 7,
   "metadata": {},
   "outputs": [
    {
     "data": {
      "image/png": "[encoded data removed]",
      "text/plain": [
       "<Figure size 720x504 with 1 Axes>"
      ]
     },
     "metadata": {},
     "output_type": "display_data"
    }
   ],
   "source": [
    "import scipy.constants as const\n",
    "\n",
    "M_sun = 1.98847542e30 # in kg\n",
    "R_sun = 695700000.0 # in m\n",
    "\n",
    "Mwd = np.linspace(0.01, 2.0, 1000) # a useful range of WD masses\n",
    "\n",
    "mu = 1.6605390666e-27 #in kg\n",
    "Rwd = R15*((1/(4*pi))**(1/(1.5)))*(2.5/const.G)*(M15/(Mwd*M_sun))**(0.5/1.5)/R_sun\n",
    "\n",
    "# Your solution here\n",
    "bsfont = {'fontname':'Cambria Math'}\n",
    "plt.figure(figsize=(10,7))\n",
    "plt.plot(Mwd,Rwd,c='blue')\n",
    "plt.xlabel(r'$M/M_{\\odot}$',fontsize=18,**bsfont)\n",
    "plt.ylabel(r'$R/R_{\\odot}$',fontsize=18,**bsfont)\n",
    "plt.title('White Dwarf Mass-Radius relation',fontsize=20,**bsfont)\n",
    "plt.grid()"
   ]
  },
  {
   "cell_type": "markdown",
   "metadata": {},
   "source": [
    "#### Student-report part 3:\n",
    "Use the tabulated value $M_3$ and the polytropic constant $K$ from above to show that the Chandrasekhar mass is $M_\\mathrm{Ch}\\approx5.83\\,\\mu_\\mathrm{e}^{-2}\\,\\mathrm{M}_\\odot$. Compute the Chandrasekhar mass for a white dwarf made of carbon and oxygen, and of a white dwarf made of iron. The latter mass limit is relevant for core-collapse supernovae as we will see later in this course. For which composition do we have $\\mu_\\mathrm{e}=1.0$ and hence a Chandrasekhar mass of $5.83\\,\\mathrm{M}_\\odot$?"
   ]
  },
  {
   "cell_type": "markdown",
   "metadata": {},
   "source": [
    "Solution: \n",
    "\n",
    "(a) for a degenerate non-relativistic electron gas, $R \\propto M^{-1/3}$. Combining it with $\\rho \\propto MR^{-3}$ we obtain $\\bar \\rho \\propto M^2$\n",
    "\n",
    "(b) The mean density increases and electrons become relativistic due to Pauli exclusion principle \n",
    "\n",
    "(c) For n=3, the mass-radius relation becomes:\n",
    "\n",
    " $M = 4\\pi M_{3}\\left(\\frac{K}{\\pi G}\\right)^{3/2}$\n",
    " \n",
    " plugging in $M_{3}=2.02$ \n",
    " \n",
    "(d) the general equation for $\\mu_e$ is:\n",
    "\n",
    "\\begin{equation}\n",
    "    \\mu_e = \\left(\\sum_{i}\\frac{X_i Z_i}{A_i}\\right)^{-1}\n",
    "\\end{equation}\n",
    "\n",
    "where A is the molecular weight and Z is the charge. For Hydrogen, $\\mu_e = 1$, for Oxygen, Helium, and Carbon $\\mu_e = 2$, and for iron $\\mu_e = 56/26$\n",
    "\n",
    "The resulting Chandrasekhar masses $M_\\mathrm{Ch}$ are:\n",
    "\n",
    "(e) $\\mu_e = 1$ is valid for Hydrogen composition since $A/Z=1$"
   ]
  },
  {
   "cell_type": "code",
   "execution_count": null,
   "metadata": {
    "collapsed": true
   },
   "outputs": [],
   "source": []
  }
 ],
 "metadata": {
  "kernelspec": {
   "display_name": "Python 3",
   "language": "python",
   "name": "python3"
  },
  "language_info": {
   "codemirror_mode": {
    "name": "ipython",
    "version": 3
   },
   "file_extension": ".py",
   "mimetype": "text/x-python",
   "name": "python",
   "nbconvert_exporter": "python",
   "pygments_lexer": "ipython3",
   "version": "3.6.5"
  }
 },
 "nbformat": 4,
 "nbformat_minor": 2
}
